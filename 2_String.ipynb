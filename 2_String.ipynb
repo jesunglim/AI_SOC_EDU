{
 "cells": [
  {
   "cell_type": "markdown",
   "id": "22039cd3-38c3-433e-b7d4-94103b5167f2",
   "metadata": {},
   "source": [
    "# 2. 문자열"
   ]
  },
  {
   "cell_type": "markdown",
   "id": "973afdf1-01d6-4e47-b536-3a39d6534525",
   "metadata": {},
   "source": [
    "- 'string'\n",
    "- \"string\"\n",
    "- '''string'''\n",
    "- \"\"\"string\"\"\""
   ]
  },
  {
   "cell_type": "code",
   "execution_count": 3,
   "id": "4a2c1762-b927-4e46-8ebb-11b904071b3e",
   "metadata": {},
   "outputs": [
    {
     "data": {
      "text/plain": [
       "'Hello World'"
      ]
     },
     "execution_count": 3,
     "metadata": {},
     "output_type": "execute_result"
    }
   ],
   "source": [
    "s1 = 'Hello World'\n",
    "s1"
   ]
  },
  {
   "cell_type": "code",
   "execution_count": 4,
   "id": "1914e7f3-4050-47ad-b873-b880436a3e70",
   "metadata": {},
   "outputs": [
    {
     "data": {
      "text/plain": [
       "'Hello World'"
      ]
     },
     "execution_count": 4,
     "metadata": {},
     "output_type": "execute_result"
    }
   ],
   "source": [
    "s2 = \"Hello World\"\n",
    "s2"
   ]
  },
  {
   "cell_type": "code",
   "execution_count": 5,
   "id": "90e21788-4431-4f7f-a766-07305aa23cfb",
   "metadata": {},
   "outputs": [
    {
     "data": {
      "text/plain": [
       "True"
      ]
     },
     "execution_count": 5,
     "metadata": {},
     "output_type": "execute_result"
    }
   ],
   "source": [
    "s1 == s2"
   ]
  },
  {
   "cell_type": "code",
   "execution_count": 6,
   "id": "f9e6479a-7d1c-42f8-8521-7ae60cac4582",
   "metadata": {},
   "outputs": [
    {
     "data": {
      "text/plain": [
       "\"I'm python master\""
      ]
     },
     "execution_count": 6,
     "metadata": {},
     "output_type": "execute_result"
    }
   ],
   "source": [
    "str1 = \"I'm python master\"\n",
    "str1"
   ]
  },
  {
   "cell_type": "code",
   "execution_count": 8,
   "id": "328a315e-fec4-45d0-ae4a-3f19d55c9155",
   "metadata": {},
   "outputs": [
    {
     "data": {
      "text/plain": [
       "\"I'm python master\""
      ]
     },
     "execution_count": 8,
     "metadata": {},
     "output_type": "execute_result"
    }
   ],
   "source": [
    "str2 = 'I\\'m python master'\n",
    "str2"
   ]
  },
  {
   "cell_type": "code",
   "execution_count": 12,
   "id": "be66eb57-6ee5-45ce-8fde-110926380280",
   "metadata": {},
   "outputs": [],
   "source": [
    "str3 = \"Hello World \\n Hello Python\""
   ]
  },
  {
   "cell_type": "code",
   "execution_count": 13,
   "id": "a540c9b9-cfc4-4768-9e57-3ee31939688c",
   "metadata": {},
   "outputs": [
    {
     "data": {
      "text/plain": [
       "'Hello World \\n Hello Python'"
      ]
     },
     "execution_count": 13,
     "metadata": {},
     "output_type": "execute_result"
    }
   ],
   "source": [
    "str3"
   ]
  },
  {
   "cell_type": "code",
   "execution_count": 33,
   "id": "18c8bf97-fc71-4e92-b567-5a5281e2a592",
   "metadata": {},
   "outputs": [
    {
     "name": "stdout",
     "output_type": "stream",
     "text": [
      "Hello World\n",
      " Hello Python\n"
     ]
    }
   ],
   "source": [
    "print(\"{}\\n {}\".format(\"Hello World\", \"Hello Python\"))"
   ]
  },
  {
   "cell_type": "code",
   "execution_count": 16,
   "id": "a9b16dcc-00ba-4a49-869d-cee5b3545720",
   "metadata": {},
   "outputs": [],
   "source": [
    "str4 = \"\"\"Hello World\n",
    "\n",
    "\n",
    "Hello Python\"\"\""
   ]
  },
  {
   "cell_type": "code",
   "execution_count": 17,
   "id": "2081f084-db40-446a-a02e-03f09bc1abb7",
   "metadata": {},
   "outputs": [
    {
     "data": {
      "text/plain": [
       "'Hello World\\n\\n\\nHello Python'"
      ]
     },
     "execution_count": 17,
     "metadata": {},
     "output_type": "execute_result"
    }
   ],
   "source": [
    "str4"
   ]
  },
  {
   "cell_type": "code",
   "execution_count": 19,
   "id": "6075e3cd-d0da-4cb3-b1a8-f5922cae6d77",
   "metadata": {},
   "outputs": [],
   "source": [
    "a = \"Hello\"\n",
    "b = \"Python\""
   ]
  },
  {
   "cell_type": "code",
   "execution_count": 20,
   "id": "80acead9-9421-4480-b350-05ce13400388",
   "metadata": {},
   "outputs": [
    {
     "data": {
      "text/plain": [
       "'Hello Python'"
      ]
     },
     "execution_count": 20,
     "metadata": {},
     "output_type": "execute_result"
    }
   ],
   "source": [
    "a + ' ' + b"
   ]
  },
  {
   "cell_type": "code",
   "execution_count": 26,
   "id": "4db205d6-88ae-49a4-b9e0-3a70c0092899",
   "metadata": {},
   "outputs": [],
   "source": [
    "c = '1234'\n",
    "d = 1234"
   ]
  },
  {
   "cell_type": "code",
   "execution_count": 27,
   "id": "db4a5cab-e515-42d0-b05d-cc85d3603dae",
   "metadata": {},
   "outputs": [
    {
     "ename": "TypeError",
     "evalue": "can only concatenate str (not \"int\") to str",
     "output_type": "error",
     "traceback": [
      "\u001b[1;31m---------------------------------------------------------------------------\u001b[0m",
      "\u001b[1;31mTypeError\u001b[0m                                 Traceback (most recent call last)",
      "Cell \u001b[1;32mIn[27], line 1\u001b[0m\n\u001b[1;32m----> 1\u001b[0m c \u001b[38;5;241m+\u001b[39m d\n",
      "\u001b[1;31mTypeError\u001b[0m: can only concatenate str (not \"int\") to str"
     ]
    }
   ],
   "source": [
    "c + d"
   ]
  },
  {
   "cell_type": "code",
   "execution_count": 28,
   "id": "64c1271b-8cb6-45cd-8536-bd6c2a749ef7",
   "metadata": {},
   "outputs": [
    {
     "data": {
      "text/plain": [
       "2468"
      ]
     },
     "execution_count": 28,
     "metadata": {},
     "output_type": "execute_result"
    }
   ],
   "source": [
    "int(c) + d"
   ]
  },
  {
   "cell_type": "code",
   "execution_count": 30,
   "id": "2dbb0998-0d8f-42c5-acf9-55a196ad7c12",
   "metadata": {},
   "outputs": [
    {
     "data": {
      "text/plain": [
       "'Hello Hello Hello Hello Hello Hello Hello Hello Hello Hello '"
      ]
     },
     "execution_count": 30,
     "metadata": {},
     "output_type": "execute_result"
    }
   ],
   "source": [
    "'Hello ' * 10"
   ]
  },
  {
   "cell_type": "code",
   "execution_count": 38,
   "id": "4062fd8e-890e-492d-a1e3-989db8a5ddf7",
   "metadata": {},
   "outputs": [],
   "source": [
    "str1= \"Hello Wolrd! \""
   ]
  },
  {
   "cell_type": "code",
   "execution_count": 39,
   "id": "0f2bcdd6-f46a-475d-9c51-983cfb66ad88",
   "metadata": {},
   "outputs": [
    {
     "data": {
      "text/plain": [
       "'Hello Wolrd! Hello Wolrd! Hello Wolrd! '"
      ]
     },
     "execution_count": 39,
     "metadata": {},
     "output_type": "execute_result"
    }
   ],
   "source": [
    "str1 * 3"
   ]
  },
  {
   "cell_type": "code",
   "execution_count": 40,
   "id": "edb862b3-933e-46ac-a0b7-6bdc83f7ea16",
   "metadata": {},
   "outputs": [
    {
     "data": {
      "text/plain": [
       "'Hello Wolrd!  Hello Wolrd!  Hello Wolrd! '"
      ]
     },
     "execution_count": 40,
     "metadata": {},
     "output_type": "execute_result"
    }
   ],
   "source": [
    "(str1 + ' ') * 2 + str1"
   ]
  },
  {
   "cell_type": "code",
   "execution_count": 41,
   "id": "efbaddd0-163c-4dd2-b121-7229ea10c89e",
   "metadata": {},
   "outputs": [
    {
     "data": {
      "text/plain": [
       "'Hello Wolrd!  Hello Wolrd!  Hello Wolrd!'"
      ]
     },
     "execution_count": 41,
     "metadata": {},
     "output_type": "execute_result"
    }
   ],
   "source": [
    "((str1 + ' ') * 3).strip()"
   ]
  },
  {
   "cell_type": "code",
   "execution_count": 42,
   "id": "7b86d3cc-f326-4439-b328-047a9951b886",
   "metadata": {},
   "outputs": [],
   "source": [
    "str2 = 'asdfasdfasdfasdfasdfasdf'"
   ]
  },
  {
   "cell_type": "code",
   "execution_count": 43,
   "id": "20b99699-76fa-4d06-bcb7-72235d08417f",
   "metadata": {},
   "outputs": [
    {
     "data": {
      "text/plain": [
       "24"
      ]
     },
     "execution_count": 43,
     "metadata": {},
     "output_type": "execute_result"
    }
   ],
   "source": [
    "len(str2)"
   ]
  },
  {
   "cell_type": "code",
   "execution_count": 44,
   "id": "534bd4a5-23fe-4648-930b-fa210296665f",
   "metadata": {},
   "outputs": [
    {
     "data": {
      "text/plain": [
       "1000"
      ]
     },
     "execution_count": 44,
     "metadata": {},
     "output_type": "execute_result"
    }
   ],
   "source": [
    "len('a'*1000)"
   ]
  },
  {
   "cell_type": "markdown",
   "id": "1aee40dc-603b-428f-9972-e1eeb3afdad7",
   "metadata": {},
   "source": [
    "-------"
   ]
  },
  {
   "cell_type": "markdown",
   "id": "529215ba-3a77-4755-a98f-637a1083253c",
   "metadata": {},
   "source": [
    "# 문자열 인덱싱"
   ]
  },
  {
   "cell_type": "markdown",
   "id": "6ff985c6-2bf4-41db-8fe6-da92ff91011d",
   "metadata": {},
   "source": [
    "- 인덱스(index) 일종의 목차! 문자열 변수.[숫자]\n",
    "- 인덱싱 : 인덱스를 이용해서 데이터를 찾는 것"
   ]
  },
  {
   "cell_type": "code",
   "execution_count": 46,
   "id": "6b076f6d-1150-4178-9a1a-469a1c1b05dd",
   "metadata": {},
   "outputs": [],
   "source": [
    "s = \"Hello World!\""
   ]
  },
  {
   "cell_type": "code",
   "execution_count": 47,
   "id": "3c4f1a63-951e-4606-995f-880cfecb1ac1",
   "metadata": {},
   "outputs": [
    {
     "data": {
      "text/plain": [
       "'H'"
      ]
     },
     "execution_count": 47,
     "metadata": {},
     "output_type": "execute_result"
    }
   ],
   "source": [
    "s[0]"
   ]
  },
  {
   "cell_type": "code",
   "execution_count": 48,
   "id": "00f3917d-f05c-44f2-8390-1783e7bd4952",
   "metadata": {},
   "outputs": [
    {
     "data": {
      "text/plain": [
       "'W'"
      ]
     },
     "execution_count": 48,
     "metadata": {},
     "output_type": "execute_result"
    }
   ],
   "source": [
    "s[6]"
   ]
  },
  {
   "cell_type": "code",
   "execution_count": 49,
   "id": "0f174be9-74ab-4cee-a48d-2ca0b63a6d25",
   "metadata": {},
   "outputs": [
    {
     "data": {
      "text/plain": [
       "'!'"
      ]
     },
     "execution_count": 49,
     "metadata": {},
     "output_type": "execute_result"
    }
   ],
   "source": [
    "s[11]"
   ]
  },
  {
   "cell_type": "code",
   "execution_count": 50,
   "id": "6fe7ae27-72ad-4f06-bb0c-dcb14a06fae7",
   "metadata": {},
   "outputs": [
    {
     "data": {
      "text/plain": [
       "12"
      ]
     },
     "execution_count": 50,
     "metadata": {},
     "output_type": "execute_result"
    }
   ],
   "source": [
    "len(s)"
   ]
  },
  {
   "cell_type": "code",
   "execution_count": 51,
   "id": "f2ca38ca-0000-4f9f-87ca-b44364457a91",
   "metadata": {},
   "outputs": [
    {
     "data": {
      "text/plain": [
       "'!'"
      ]
     },
     "execution_count": 51,
     "metadata": {},
     "output_type": "execute_result"
    }
   ],
   "source": [
    "s[len(s)-1]"
   ]
  },
  {
   "cell_type": "code",
   "execution_count": 58,
   "id": "7e2a687e-4aaa-45f1-bd8d-d382df8df8ad",
   "metadata": {},
   "outputs": [
    {
     "data": {
      "text/plain": [
       "'!'"
      ]
     },
     "execution_count": 58,
     "metadata": {},
     "output_type": "execute_result"
    }
   ],
   "source": [
    "s[-1]"
   ]
  },
  {
   "cell_type": "code",
   "execution_count": 60,
   "id": "ab931f09-063a-4515-9005-5651620c4bdd",
   "metadata": {},
   "outputs": [
    {
     "data": {
      "text/plain": [
       "'World!'"
      ]
     },
     "execution_count": 60,
     "metadata": {},
     "output_type": "execute_result"
    }
   ],
   "source": [
    "s[-6] + s[-5] + s[-4] + s[-3] + s[-2] + s[-1]"
   ]
  },
  {
   "cell_type": "code",
   "execution_count": 57,
   "id": "ce418de2-8c06-473e-9a8f-4d8601d30c51",
   "metadata": {},
   "outputs": [
    {
     "data": {
      "text/plain": [
       "'World!'"
      ]
     },
     "execution_count": 57,
     "metadata": {},
     "output_type": "execute_result"
    }
   ],
   "source": [
    "s[-6:]"
   ]
  },
  {
   "cell_type": "code",
   "execution_count": 59,
   "id": "568e1d65-a626-4d2b-8cf1-84ed7f14e52b",
   "metadata": {},
   "outputs": [
    {
     "ename": "TypeError",
     "evalue": "'str' object does not support item assignment",
     "output_type": "error",
     "traceback": [
      "\u001b[1;31m---------------------------------------------------------------------------\u001b[0m",
      "\u001b[1;31mTypeError\u001b[0m                                 Traceback (most recent call last)",
      "Cell \u001b[1;32mIn[59], line 1\u001b[0m\n\u001b[1;32m----> 1\u001b[0m s[\u001b[38;5;241m6\u001b[39m] \u001b[38;5;241m=\u001b[39m \u001b[38;5;124m'\u001b[39m\u001b[38;5;124mw\u001b[39m\u001b[38;5;124m'\u001b[39m\n",
      "\u001b[1;31mTypeError\u001b[0m: 'str' object does not support item assignment"
     ]
    }
   ],
   "source": [
    "s[6] = 'w'"
   ]
  },
  {
   "cell_type": "markdown",
   "id": "ddcfabdb-bfa1-4664-85c1-945630a02236",
   "metadata": {},
   "source": [
    "# 문자열 슬라이싱"
   ]
  },
  {
   "cell_type": "markdown",
   "id": "41e91a13-1f72-43d0-a208-f0281c948c2f",
   "metadata": {},
   "source": [
    "- 슬라이싱은 특정 데이터 부분을 잘라내는 것을 의미\n",
    "- string[시작번호:끝번호] -> 시작번호~끝번호-1"
   ]
  },
  {
   "cell_type": "code",
   "execution_count": 61,
   "id": "c6a6869d-e6bd-4029-91c1-5f68dc9b61c0",
   "metadata": {},
   "outputs": [
    {
     "data": {
      "text/plain": [
       "'World!'"
      ]
     },
     "execution_count": 61,
     "metadata": {},
     "output_type": "execute_result"
    }
   ],
   "source": [
    "s[6:]"
   ]
  },
  {
   "cell_type": "code",
   "execution_count": 62,
   "id": "e478cf52-ffc3-44c7-9d84-923f32f92038",
   "metadata": {},
   "outputs": [
    {
     "data": {
      "text/plain": [
       "'World'"
      ]
     },
     "execution_count": 62,
     "metadata": {},
     "output_type": "execute_result"
    }
   ],
   "source": [
    "s[6:11]"
   ]
  },
  {
   "cell_type": "code",
   "execution_count": 63,
   "id": "5b555261-35fa-4e13-951e-2cc2a3e3411b",
   "metadata": {},
   "outputs": [
    {
     "data": {
      "text/plain": [
       "'World'"
      ]
     },
     "execution_count": 63,
     "metadata": {},
     "output_type": "execute_result"
    }
   ],
   "source": [
    "s[6:-1]"
   ]
  },
  {
   "cell_type": "code",
   "execution_count": 64,
   "id": "64a90255-e3ad-40c1-a2e1-6f5abce983f0",
   "metadata": {},
   "outputs": [
    {
     "data": {
      "text/plain": [
       "'Hello'"
      ]
     },
     "execution_count": 64,
     "metadata": {},
     "output_type": "execute_result"
    }
   ],
   "source": [
    "s[:5]"
   ]
  },
  {
   "cell_type": "code",
   "execution_count": 65,
   "id": "d2b3ed4a-2361-435a-909f-9d87ee7850a3",
   "metadata": {},
   "outputs": [],
   "source": [
    "q = \"Life if too short. Just do it\""
   ]
  },
  {
   "cell_type": "code",
   "execution_count": 67,
   "id": "3629d0d4-cfb8-43a9-a08e-cf7059c52f25",
   "metadata": {},
   "outputs": [
    {
     "data": {
      "text/plain": [
       "'Just do it'"
      ]
     },
     "execution_count": 67,
     "metadata": {},
     "output_type": "execute_result"
    }
   ],
   "source": [
    "q[-10:]"
   ]
  },
  {
   "cell_type": "markdown",
   "id": "19fb9ed7-0e76-4c62-ba52-bba444b63ff7",
   "metadata": {},
   "source": [
    "[Quiz] '20251202월1106'을 '2024년 12월 02일 월요일 11:06'로 출력하세요"
   ]
  },
  {
   "cell_type": "code",
   "execution_count": 82,
   "id": "34ac8289-2b82-448c-8486-8362c21e625c",
   "metadata": {},
   "outputs": [],
   "source": [
    "now = '20241202월11:06'"
   ]
  },
  {
   "cell_type": "code",
   "execution_count": 84,
   "id": "fe5a20c1-0084-420b-b0b3-bc343f3ec81e",
   "metadata": {},
   "outputs": [
    {
     "data": {
      "text/plain": [
       "'2024년 12월 02일 월요일 11:06'"
      ]
     },
     "execution_count": 84,
     "metadata": {},
     "output_type": "execute_result"
    }
   ],
   "source": [
    "now[:4] + '년 ' + now[4:6] + '월 ' + now[6:8] + '일 ' + now[8:9] + '요일 ' + now[-5:]"
   ]
  },
  {
   "cell_type": "code",
   "execution_count": 85,
   "id": "38d1859f-2ac5-4adb-b58e-b1cde4ebcb62",
   "metadata": {},
   "outputs": [],
   "source": [
    "year = now[:4]\n",
    "month = now[4:6]\n",
    "day = now[6:8]\n",
    "week = now[8:9]\n",
    "hour = now[-5:]"
   ]
  },
  {
   "cell_type": "code",
   "execution_count": 86,
   "id": "b76a8702-7b78-48ae-a897-14b218e8ca73",
   "metadata": {},
   "outputs": [
    {
     "data": {
      "text/plain": [
       "'2024년 12월 02일 월요일 11:06'"
      ]
     },
     "execution_count": 86,
     "metadata": {},
     "output_type": "execute_result"
    }
   ],
   "source": [
    "f'{year}년 {month}월 {day}일 {week}요일 {hour}'"
   ]
  },
  {
   "cell_type": "markdown",
   "id": "bf00b3bd-1e26-4d4e-a5b3-f44d48a834a8",
   "metadata": {},
   "source": [
    "# 문자열 개수를 세는 함수"
   ]
  },
  {
   "cell_type": "markdown",
   "id": "895b9ebc-60e2-4a5b-8c61-0ec0b95823c9",
   "metadata": {},
   "source": [
    "- count('찾을 문자열')"
   ]
  },
  {
   "cell_type": "code",
   "execution_count": 87,
   "id": "d6573748-2be5-4df9-bf5e-b56b379faff7",
   "metadata": {},
   "outputs": [],
   "source": [
    "s = '안녕하세요! 홍길동입니다. 저는 홍길동입니다'"
   ]
  },
  {
   "cell_type": "code",
   "execution_count": 88,
   "id": "7081c66a-4b16-471f-8058-4dbd016f8364",
   "metadata": {},
   "outputs": [
    {
     "data": {
      "text/plain": [
       "2"
      ]
     },
     "execution_count": 88,
     "metadata": {},
     "output_type": "execute_result"
    }
   ],
   "source": [
    "s.count('홍길동')"
   ]
  },
  {
   "cell_type": "code",
   "execution_count": 90,
   "id": "d9a8a848-5169-4ffe-bf3e-f9321e0c6c93",
   "metadata": {},
   "outputs": [
    {
     "data": {
      "text/plain": [
       "0"
      ]
     },
     "execution_count": 90,
     "metadata": {},
     "output_type": "execute_result"
    }
   ],
   "source": [
    "s.count('임재성')"
   ]
  },
  {
   "cell_type": "code",
   "execution_count": 91,
   "id": "4d31f18f-243e-4c08-b27a-d5a2d4363834",
   "metadata": {},
   "outputs": [],
   "source": [
    "s2 = \"Hello Python! I'm Pyhon Master!\""
   ]
  },
  {
   "cell_type": "code",
   "execution_count": 92,
   "id": "498e8e93-ccef-43c1-9b5b-854496515ff6",
   "metadata": {},
   "outputs": [
    {
     "data": {
      "text/plain": [
       "0"
      ]
     },
     "execution_count": 92,
     "metadata": {},
     "output_type": "execute_result"
    }
   ],
   "source": [
    "s2.count('python')"
   ]
  },
  {
   "cell_type": "code",
   "execution_count": 94,
   "id": "b2f73337-1c11-4edb-929f-e01b6cca890d",
   "metadata": {},
   "outputs": [
    {
     "data": {
      "text/plain": [
       "1"
      ]
     },
     "execution_count": 94,
     "metadata": {},
     "output_type": "execute_result"
    }
   ],
   "source": [
    "s2.count('Python')"
   ]
  },
  {
   "cell_type": "markdown",
   "id": "a0a67cd2-ab94-4ef1-b51a-892c55783bc8",
   "metadata": {},
   "source": [
    "# 문자열 위치를 알려주는 함수"
   ]
  },
  {
   "cell_type": "markdown",
   "id": "87715a74-b647-4bbf-b8b6-412aeb71aff8",
   "metadata": {},
   "source": [
    "- find('문자열')\n",
    "- index('문자열')"
   ]
  },
  {
   "cell_type": "code",
   "execution_count": 95,
   "id": "326972f3-edc4-40d2-acc5-abb3dc7e8da6",
   "metadata": {},
   "outputs": [],
   "source": [
    "s = 'Hello World!'"
   ]
  },
  {
   "cell_type": "code",
   "execution_count": 96,
   "id": "10bd295f-b663-42b6-98c8-b7d47686b5dc",
   "metadata": {},
   "outputs": [
    {
     "data": {
      "text/plain": [
       "1"
      ]
     },
     "execution_count": 96,
     "metadata": {},
     "output_type": "execute_result"
    }
   ],
   "source": [
    "s.find('e')"
   ]
  },
  {
   "cell_type": "code",
   "execution_count": 97,
   "id": "c8539186-66b7-46b8-9781-be22cb933e5b",
   "metadata": {},
   "outputs": [
    {
     "data": {
      "text/plain": [
       "-1"
      ]
     },
     "execution_count": 97,
     "metadata": {},
     "output_type": "execute_result"
    }
   ],
   "source": [
    "s.find('a')"
   ]
  },
  {
   "cell_type": "code",
   "execution_count": 98,
   "id": "4bf1fc15-ead7-4fee-ac18-57201b9cdde2",
   "metadata": {},
   "outputs": [
    {
     "data": {
      "text/plain": [
       "6"
      ]
     },
     "execution_count": 98,
     "metadata": {},
     "output_type": "execute_result"
    }
   ],
   "source": [
    "s.find('World')"
   ]
  },
  {
   "cell_type": "code",
   "execution_count": 99,
   "id": "f4b3447a-4471-4b71-8b87-153e188bbb3b",
   "metadata": {},
   "outputs": [
    {
     "data": {
      "text/plain": [
       "-1"
      ]
     },
     "execution_count": 99,
     "metadata": {},
     "output_type": "execute_result"
    }
   ],
   "source": [
    "s.find('world')"
   ]
  },
  {
   "cell_type": "code",
   "execution_count": 100,
   "id": "b72101ee-cd0b-43ef-a271-5793beffc683",
   "metadata": {},
   "outputs": [
    {
     "data": {
      "text/plain": [
       "4"
      ]
     },
     "execution_count": 100,
     "metadata": {},
     "output_type": "execute_result"
    }
   ],
   "source": [
    "s.find('o')"
   ]
  },
  {
   "cell_type": "code",
   "execution_count": 101,
   "id": "16cc4f5d-0dba-4d34-92dc-8f192bb6b9e3",
   "metadata": {},
   "outputs": [
    {
     "data": {
      "text/plain": [
       "1"
      ]
     },
     "execution_count": 101,
     "metadata": {},
     "output_type": "execute_result"
    }
   ],
   "source": [
    "s.index('e')"
   ]
  },
  {
   "cell_type": "code",
   "execution_count": 102,
   "id": "25de2027-48dc-4143-87bc-34e8863e358b",
   "metadata": {},
   "outputs": [
    {
     "ename": "ValueError",
     "evalue": "substring not found",
     "output_type": "error",
     "traceback": [
      "\u001b[1;31m---------------------------------------------------------------------------\u001b[0m",
      "\u001b[1;31mValueError\u001b[0m                                Traceback (most recent call last)",
      "Cell \u001b[1;32mIn[102], line 1\u001b[0m\n\u001b[1;32m----> 1\u001b[0m s\u001b[38;5;241m.\u001b[39mindex(\u001b[38;5;124m'\u001b[39m\u001b[38;5;124ma\u001b[39m\u001b[38;5;124m'\u001b[39m)\n",
      "\u001b[1;31mValueError\u001b[0m: substring not found"
     ]
    }
   ],
   "source": [
    "s.index('a')"
   ]
  },
  {
   "cell_type": "markdown",
   "id": "7e78cbfe-0def-4619-a954-8a5db57c90b9",
   "metadata": {},
   "source": [
    "# 문자열을 대,소문자로 바꿔주는 함수"
   ]
  },
  {
   "cell_type": "markdown",
   "id": "ad12be11-d1ad-4f51-b89b-8e6b5c4c4a44",
   "metadata": {},
   "source": [
    "- upper() : 대문자로 바꾸기\n",
    "- lower() : 소문자로 바꾸기"
   ]
  },
  {
   "cell_type": "markdown",
   "id": "bb0da14a-f612-4de2-b359-c28ee6e6757c",
   "metadata": {},
   "source": [
    "### 영문자 소문자, 대문자 구별 안하는 실수 많이함. 미리 대,소문자로 바꿔 주 후에 검색해야 함."
   ]
  },
  {
   "cell_type": "code",
   "execution_count": 103,
   "id": "1df89dbe-c8bf-4d36-99c4-713475c63d87",
   "metadata": {},
   "outputs": [],
   "source": [
    "s = \"Hello Python!\""
   ]
  },
  {
   "cell_type": "code",
   "execution_count": 104,
   "id": "7ad2e922-5ac6-4f76-8124-31449964cd43",
   "metadata": {},
   "outputs": [
    {
     "data": {
      "text/plain": [
       "'hello python!'"
      ]
     },
     "execution_count": 104,
     "metadata": {},
     "output_type": "execute_result"
    }
   ],
   "source": [
    "s.lower()"
   ]
  },
  {
   "cell_type": "code",
   "execution_count": 105,
   "id": "dd2bd9dc-cc67-40a6-bb86-1520b2be2383",
   "metadata": {},
   "outputs": [
    {
     "data": {
      "text/plain": [
       "'HELLO PYTHON!'"
      ]
     },
     "execution_count": 105,
     "metadata": {},
     "output_type": "execute_result"
    }
   ],
   "source": [
    "s.upper()"
   ]
  },
  {
   "cell_type": "code",
   "execution_count": 106,
   "id": "cc0fc0e0-1354-46ff-a324-df073ff86cab",
   "metadata": {},
   "outputs": [
    {
     "data": {
      "text/plain": [
       "1"
      ]
     },
     "execution_count": 106,
     "metadata": {},
     "output_type": "execute_result"
    }
   ],
   "source": [
    "s.lower().count('python')"
   ]
  },
  {
   "cell_type": "markdown",
   "id": "95ba41fa-9035-4ee5-be35-903896dd21e6",
   "metadata": {},
   "source": [
    "# 문자열 공백 지우기 함수"
   ]
  },
  {
   "cell_type": "markdown",
   "id": "0620c889-c9e9-4850-87c1-e71a756cae30",
   "metadata": {},
   "source": [
    "- lstrip() : 왼쪽 공백 지우기\n",
    "- rstrip() : 오른쪽 공백 지우기\n",
    "- strip() : 양쪽 공백 지우기"
   ]
  },
  {
   "cell_type": "markdown",
   "id": "5b81355f-9fc7-4376-a313-c7661015b4c7",
   "metadata": {},
   "source": [
    "웹상에서나 장비에서 로그를 긁어올때 공백이 많음"
   ]
  },
  {
   "cell_type": "code",
   "execution_count": 107,
   "id": "4fa9d8a5-8926-41a5-9436-35a6657390b5",
   "metadata": {},
   "outputs": [],
   "source": [
    "s = \"         A black space\""
   ]
  },
  {
   "cell_type": "code",
   "execution_count": 108,
   "id": "f280c804-5679-450f-90e0-7171e372972a",
   "metadata": {},
   "outputs": [
    {
     "data": {
      "text/plain": [
       "'A black space'"
      ]
     },
     "execution_count": 108,
     "metadata": {},
     "output_type": "execute_result"
    }
   ],
   "source": [
    "s.lstrip()"
   ]
  },
  {
   "cell_type": "code",
   "execution_count": 109,
   "id": "720eef6d-8b62-4e06-a298-2f482159611a",
   "metadata": {},
   "outputs": [
    {
     "data": {
      "text/plain": [
       "'         A black space'"
      ]
     },
     "execution_count": 109,
     "metadata": {},
     "output_type": "execute_result"
    }
   ],
   "source": [
    "s.rstrip()"
   ]
  },
  {
   "cell_type": "code",
   "execution_count": 110,
   "id": "0015b76f-1a5a-4002-ad76-058c452ee660",
   "metadata": {},
   "outputs": [
    {
     "data": {
      "text/plain": [
       "'A black space'"
      ]
     },
     "execution_count": 110,
     "metadata": {},
     "output_type": "execute_result"
    }
   ],
   "source": [
    "s.strip()"
   ]
  },
  {
   "cell_type": "markdown",
   "id": "0a225311-b816-434d-a8b2-bb36270c39a6",
   "metadata": {},
   "source": [
    "# 문자열 바꾸기 함수"
   ]
  },
  {
   "cell_type": "markdown",
   "id": "84e6f49f-6194-417b-b7a2-b35a3459e16c",
   "metadata": {},
   "source": [
    "- replace('기존 문자열', '변경할 문자열')"
   ]
  },
  {
   "cell_type": "code",
   "execution_count": 111,
   "id": "b8dd168c-eab4-479f-9d63-f636a8b9807f",
   "metadata": {},
   "outputs": [],
   "source": [
    "s = 'Python Beginner'"
   ]
  },
  {
   "cell_type": "code",
   "execution_count": 112,
   "id": "d58274de-0b54-450b-b5a0-c8240dc64582",
   "metadata": {},
   "outputs": [
    {
     "data": {
      "text/plain": [
       "'Python Master'"
      ]
     },
     "execution_count": 112,
     "metadata": {},
     "output_type": "execute_result"
    }
   ],
   "source": [
    "s.replace('Beginner', 'Master')"
   ]
  },
  {
   "cell_type": "code",
   "execution_count": 115,
   "id": "338a5742-6380-488e-8768-4100dfca7254",
   "metadata": {},
   "outputs": [
    {
     "data": {
      "text/plain": [
       "'PythonBeginner'"
      ]
     },
     "execution_count": 115,
     "metadata": {},
     "output_type": "execute_result"
    }
   ],
   "source": [
    "s.replace(' ', '')"
   ]
  },
  {
   "cell_type": "code",
   "execution_count": 116,
   "id": "f3ca528b-15eb-425f-965c-72d72935cc03",
   "metadata": {},
   "outputs": [],
   "source": [
    "s = \"hello everyone nice too meet you!\""
   ]
  },
  {
   "cell_type": "code",
   "execution_count": 117,
   "id": "0d73d9d9-f1f8-4b1c-a946-22e9268fe169",
   "metadata": {},
   "outputs": [
    {
     "data": {
      "text/plain": [
       "'helloeveryonenicetoomeetyou!'"
      ]
     },
     "execution_count": 117,
     "metadata": {},
     "output_type": "execute_result"
    }
   ],
   "source": [
    "s.replace(' ', '')"
   ]
  },
  {
   "cell_type": "markdown",
   "id": "441fc1b0-b0d8-497d-a205-459cf957b494",
   "metadata": {},
   "source": [
    "# 문자열 나누기 함수"
   ]
  },
  {
   "cell_type": "markdown",
   "id": "888df035-b7d6-48be-9519-29594f279bac",
   "metadata": {},
   "source": [
    "- split('기준') : '기준'을 이용해 문자열 나눔"
   ]
  },
  {
   "cell_type": "code",
   "execution_count": 119,
   "id": "50f43151-c561-421e-8cf3-c0f5d55d9e48",
   "metadata": {},
   "outputs": [],
   "source": [
    "s = '이 영화는 재밌었다'"
   ]
  },
  {
   "cell_type": "code",
   "execution_count": 120,
   "id": "f7199fbd-eadf-40cc-9610-417d97950540",
   "metadata": {},
   "outputs": [
    {
     "data": {
      "text/plain": [
       "['이', '영화는', '재밌었다']"
      ]
     },
     "execution_count": 120,
     "metadata": {},
     "output_type": "execute_result"
    }
   ],
   "source": [
    "s.split(' ')"
   ]
  },
  {
   "cell_type": "code",
   "execution_count": 122,
   "id": "52c2df70-94cc-4307-aae9-5b86088b6c04",
   "metadata": {},
   "outputs": [
    {
     "data": {
      "text/plain": [
       "'재밌었다'"
      ]
     },
     "execution_count": 122,
     "metadata": {},
     "output_type": "execute_result"
    }
   ],
   "source": [
    "s.split(' ')[2]"
   ]
  },
  {
   "cell_type": "code",
   "execution_count": 123,
   "id": "abd9dce1-9cff-4f0b-ab5d-4192c6ddef57",
   "metadata": {},
   "outputs": [],
   "source": [
    "phone = '010-1234-5678'"
   ]
  },
  {
   "cell_type": "code",
   "execution_count": 124,
   "id": "47cc0286-7a3d-4067-98fe-e50520f06f5c",
   "metadata": {},
   "outputs": [
    {
     "data": {
      "text/plain": [
       "['010', '1234', '5678']"
      ]
     },
     "execution_count": 124,
     "metadata": {},
     "output_type": "execute_result"
    }
   ],
   "source": [
    "phone.split('-')"
   ]
  },
  {
   "cell_type": "code",
   "execution_count": 125,
   "id": "f7ce544a-3d8d-497c-8ef6-9af7ff7df4a2",
   "metadata": {},
   "outputs": [
    {
     "data": {
      "text/plain": [
       "'5678'"
      ]
     },
     "execution_count": 125,
     "metadata": {},
     "output_type": "execute_result"
    }
   ],
   "source": [
    "phone.split('-')[-1]"
   ]
  },
  {
   "cell_type": "markdown",
   "id": "49f86623-6cfe-47d9-8bde-7b737c43ada2",
   "metadata": {},
   "source": [
    "### 문자열을 삽입하는 함수"
   ]
  },
  {
   "cell_type": "markdown",
   "id": "2f3a8141-d0a0-4dad-b95c-54958b43a64f",
   "metadata": {},
   "source": [
    "- join('문자열')"
   ]
  },
  {
   "cell_type": "markdown",
   "id": "14589b3d-72bc-4da8-9d56-c30bbd89078b",
   "metadata": {},
   "source": [
    "'abcd' > 'a-b-c-d'"
   ]
  },
  {
   "cell_type": "code",
   "execution_count": 126,
   "id": "328b7ce2-3bcc-4df8-836d-01d30d19618a",
   "metadata": {},
   "outputs": [
    {
     "data": {
      "text/plain": [
       "'a-b-c-d'"
      ]
     },
     "execution_count": 126,
     "metadata": {},
     "output_type": "execute_result"
    }
   ],
   "source": [
    "'-'.join('abcd')"
   ]
  },
  {
   "cell_type": "markdown",
   "id": "1b057076-7daf-466a-a9f3-1878523cfac4",
   "metadata": {},
   "source": [
    "010-1234-5678 => 010:1234:5678"
   ]
  },
  {
   "cell_type": "code",
   "execution_count": 127,
   "id": "db9e0dea-9181-4a64-abac-7f6bac32a7f2",
   "metadata": {},
   "outputs": [],
   "source": [
    "phone = '010-1234-5678'"
   ]
  },
  {
   "cell_type": "code",
   "execution_count": 130,
   "id": "a8342682-ef62-4fa3-a9e2-ee64816f0537",
   "metadata": {},
   "outputs": [
    {
     "data": {
      "text/plain": [
       "'010:1234:5678'"
      ]
     },
     "execution_count": 130,
     "metadata": {},
     "output_type": "execute_result"
    }
   ],
   "source": [
    "':'.join(phone.split('-'))"
   ]
  },
  {
   "cell_type": "code",
   "execution_count": 132,
   "id": "7fd2e1e4-6332-41d3-aebd-2023bf0d0580",
   "metadata": {},
   "outputs": [
    {
     "name": "stdout",
     "output_type": "stream",
     "text": [
      "['010', '1234', '5678']\n",
      "010:1234:5678\n"
     ]
    }
   ],
   "source": [
    "phone2 = phone.split('-')\n",
    "print(phone2)\n",
    "result = ':'.join(phone2)\n",
    "print(result)"
   ]
  },
  {
   "cell_type": "code",
   "execution_count": null,
   "id": "bd8248ad-55e2-42a4-9243-1856dea8d496",
   "metadata": {},
   "outputs": [],
   "source": []
  }
 ],
 "metadata": {
  "kernelspec": {
   "display_name": "Python 3 (ipykernel)",
   "language": "python",
   "name": "python3"
  },
  "language_info": {
   "codemirror_mode": {
    "name": "ipython",
    "version": 3
   },
   "file_extension": ".py",
   "mimetype": "text/x-python",
   "name": "python",
   "nbconvert_exporter": "python",
   "pygments_lexer": "ipython3",
   "version": "3.12.7"
  }
 },
 "nbformat": 4,
 "nbformat_minor": 5
}
