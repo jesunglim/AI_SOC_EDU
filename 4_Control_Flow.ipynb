{
 "cells": [
  {
   "cell_type": "markdown",
   "id": "130082e0-4816-451e-91df-32fa5c953f7b",
   "metadata": {},
   "source": [
    "IF문(조건문)"
   ]
  },
  {
   "cell_type": "raw",
   "id": "f5ce7f06-4ceb-4d86-bf1d-40d83554f76a",
   "metadata": {},
   "source": [
    "if 조건(bool):\n",
    "    조건이 참이면 결과\n",
    "# indent error"
   ]
  },
  {
   "cell_type": "raw",
   "id": "8a676599-2d3d-4571-8207-238cce6b9761",
   "metadata": {},
   "source": [
    "if 조건1(bool)\n",
    "    조건1이 참이면 결과\n",
    "elif 조건2:\n",
    "    조건2가 참이면 결과\n",
    "elif 조건3:\n",
    "    조건3이 참이면 결과\n",
    "else:\n",
    "    모든 조건이 거짓이면 결과"
   ]
  },
  {
   "cell_type": "code",
   "execution_count": 4,
   "id": "550222e3-4cc3-4b04-92fd-1db19e2841db",
   "metadata": {},
   "outputs": [
    {
     "name": "stdout",
     "output_type": "stream",
     "text": [
      "프로그램 종료\n"
     ]
    }
   ],
   "source": [
    "a = 1\n",
    "\n",
    "if a == 0:\n",
    "    print('0')\n",
    "print('프로그램 종료')"
   ]
  },
  {
   "cell_type": "code",
   "execution_count": 5,
   "id": "211ebe6a-e555-4ad1-b1c5-e68832c23a4c",
   "metadata": {},
   "outputs": [],
   "source": [
    "ty = '+'\n",
    "n1, n2 = 2,3"
   ]
  },
  {
   "cell_type": "code",
   "execution_count": 6,
   "id": "3a23ddef-6f02-472e-80c4-78e404231227",
   "metadata": {},
   "outputs": [
    {
     "name": "stdout",
     "output_type": "stream",
     "text": [
      "5\n"
     ]
    }
   ],
   "source": [
    "if ty == '+':\n",
    "    print(n1 + n2)\n",
    "elif ty == '-':\n",
    "    print(n1 - n2)\n",
    "elif ty == '*':\n",
    "    print(n1 * n2)\n",
    "elif ty == '/':\n",
    "    print(n1/ n2)\n",
    "else:\n",
    "    print('잘못된 기호입니다.')"
   ]
  },
  {
   "cell_type": "raw",
   "id": "41a7ec26-4b33-44ec-9822-aca3821fc1cd",
   "metadata": {},
   "source": [
    "&(and) => 둘 다 참일떄\n",
    "|(or) => 둘 중 하나라도 참일때"
   ]
  },
  {
   "cell_type": "code",
   "execution_count": 11,
   "id": "5c3b2f5e-f898-4bcd-9ca0-0575503af586",
   "metadata": {},
   "outputs": [
    {
     "name": "stdout",
     "output_type": "stream",
     "text": [
      "a는 0보다 작고, b는 0보다 큽니다\n"
     ]
    }
   ],
   "source": [
    "a, b = -1, 1\n",
    "\n",
    "if (a<0)&(b>0):\n",
    "    print('a는 0보다 작고, b는 0보다 큽니다')\n",
    "else:\n",
    "    print('잘 모르겠습니다')"
   ]
  },
  {
   "cell_type": "code",
   "execution_count": 17,
   "id": "9d9d29ac-2450-4121-8507-fede1eba501d",
   "metadata": {},
   "outputs": [
    {
     "name": "stdout",
     "output_type": "stream",
     "text": [
      "a는 0보다 작거나 혹은 b는 0보다 큽니다\n"
     ]
    }
   ],
   "source": [
    "a, b = 0, 1\n",
    "\n",
    "if (a<0)|(b>0):\n",
    "    print('a는 0보다 작거나 혹은 b는 0보다 큽니다')\n",
    "else:\n",
    "    print('잘 모르겠습니다')"
   ]
  },
  {
   "cell_type": "code",
   "execution_count": 21,
   "id": "8c5c31a0-1641-441e-8635-043eabcf69dd",
   "metadata": {},
   "outputs": [
    {
     "name": "stdin",
     "output_type": "stream",
     "text": [
      "수를 입력하세요 1\n"
     ]
    }
   ],
   "source": [
    "num = int(input('수를 입력하세요'))"
   ]
  },
  {
   "cell_type": "code",
   "execution_count": 22,
   "id": "6abb9fa1-840d-49f7-a397-db3c597eeb4e",
   "metadata": {},
   "outputs": [
    {
     "data": {
      "text/plain": [
       "1"
      ]
     },
     "execution_count": 22,
     "metadata": {},
     "output_type": "execute_result"
    }
   ],
   "source": [
    "num"
   ]
  },
  {
   "cell_type": "code",
   "execution_count": 23,
   "id": "113de9b4-820d-42e2-b496-96aaee24a1a5",
   "metadata": {},
   "outputs": [
    {
     "data": {
      "text/plain": [
       "int"
      ]
     },
     "execution_count": 23,
     "metadata": {},
     "output_type": "execute_result"
    }
   ],
   "source": [
    "type(num)"
   ]
  },
  {
   "cell_type": "code",
   "execution_count": 31,
   "id": "0a686ae2-442e-436c-810e-7de5d0eb68e1",
   "metadata": {},
   "outputs": [
    {
     "name": "stdin",
     "output_type": "stream",
     "text": [
      "5의 배수를 입력하세요 :  15\n"
     ]
    },
    {
     "name": "stdout",
     "output_type": "stream",
     "text": [
      "5의 배수입니다.\n"
     ]
    }
   ],
   "source": [
    "num = int(input('5의 배수를 입력하세요 : '))\n",
    "\n",
    "if (num>0) & (num%5==0):\n",
    "    print('5의 배수입니다.')\n",
    "else:\n",
    "    print('5의 배수가 아닙니다.')"
   ]
  },
  {
   "cell_type": "markdown",
   "id": "dc067b6b-615c-4757-ad5a-d7b4c41db4c0",
   "metadata": {},
   "source": [
    "[Quiz] 주민등록번호를 입력받아서 남자인지 여자인지 출력하기\n",
    "\n",
    "입력 예시) 900123-1234123\n",
    "\n",
    "<형식 검사>\n",
    "1. 주민번호 형식 & 길이가 맞는지\n",
    "2. 1(남자), 2(여자)"
   ]
  },
  {
   "cell_type": "code",
   "execution_count": null,
   "id": "37d70b41-62ec-47b6-b305-819e7b8ad316",
   "metadata": {},
   "outputs": [],
   "source": [
    "## 예제\n",
    "jumin = '900000-3000000'\n",
    "if (len(jumin) == 14) & (jumin[6] == '-'):\n",
    "    if jumin[7]\n"
   ]
  },
  {
   "cell_type": "code",
   "execution_count": 32,
   "id": "c03f8e80-9ee2-4536-863e-7e6809a836e4",
   "metadata": {},
   "outputs": [],
   "source": [
    "villager = '900000-1000000'"
   ]
  },
  {
   "cell_type": "code",
   "execution_count": 39,
   "id": "ff02f8e6-6062-46ad-a61c-d6a907b2eeb7",
   "metadata": {},
   "outputs": [],
   "source": [
    "wrong_num = '234234234234'"
   ]
  },
  {
   "cell_type": "code",
   "execution_count": 52,
   "id": "e4308851-bb22-48fe-87e7-4465c01c04be",
   "metadata": {},
   "outputs": [
    {
     "data": {
      "text/plain": [
       "14"
      ]
     },
     "execution_count": 52,
     "metadata": {},
     "output_type": "execute_result"
    }
   ],
   "source": [
    "len(villager)"
   ]
  },
  {
   "cell_type": "code",
   "execution_count": 38,
   "id": "ed7e3916-1e24-450b-93e6-ce6ae9936385",
   "metadata": {},
   "outputs": [
    {
     "data": {
      "text/plain": [
       "['900000', '1000000']"
      ]
     },
     "execution_count": 38,
     "metadata": {},
     "output_type": "execute_result"
    }
   ],
   "source": [
    "villager.split('-')"
   ]
  },
  {
   "cell_type": "code",
   "execution_count": 40,
   "id": "f871f0dc-621a-4ddd-9747-151bf810eb7d",
   "metadata": {},
   "outputs": [
    {
     "data": {
      "text/plain": [
       "['234234234234']"
      ]
     },
     "execution_count": 40,
     "metadata": {},
     "output_type": "execute_result"
    }
   ],
   "source": [
    "wrong_num.split('-')"
   ]
  },
  {
   "cell_type": "code",
   "execution_count": 43,
   "id": "44671d06-a5f2-4ddd-8735-1261ecd14026",
   "metadata": {},
   "outputs": [
    {
     "data": {
      "text/plain": [
       "-1"
      ]
     },
     "execution_count": 43,
     "metadata": {},
     "output_type": "execute_result"
    }
   ],
   "source": [
    "wrong_num.find('-')"
   ]
  },
  {
   "cell_type": "code",
   "execution_count": 44,
   "id": "99c3c0ab-dcf2-419d-bfaf-f60050eba92f",
   "metadata": {},
   "outputs": [
    {
     "data": {
      "text/plain": [
       "'1'"
      ]
     },
     "execution_count": 44,
     "metadata": {},
     "output_type": "execute_result"
    }
   ],
   "source": [
    "villager.split('-')[1][0]"
   ]
  },
  {
   "cell_type": "code",
   "execution_count": 101,
   "id": "438e6db6-1533-40ad-9541-2eee95cfa08b",
   "metadata": {},
   "outputs": [
    {
     "name": "stdout",
     "output_type": "stream",
     "text": [
      "남자입니다.\n"
     ]
    }
   ],
   "source": [
    "villager = '900000-1000000'\n",
    "villager2 = '90000031000000'\n",
    "villager3 = '1234'\n",
    "\n",
    "\n",
    "if len(villager) == 14:\n",
    "    err_msg = '주민번호 형식이 잘못되었습니다.'\n",
    "    if villager.find('-') == -1:\n",
    "        print(err_msg)\n",
    "    elif villager.split('-')[1][0] == '1':\n",
    "        print('남자입니다.')\n",
    "    elif villager.split('-')[1][0] == '0':\n",
    "        print('여자입니다.')\n",
    "elif len(villager) > 14 or len(villager) < 14:\n",
    "    print(err_msg)\n",
    "else:\n",
    "    print(err_msg)"
   ]
  },
  {
   "cell_type": "markdown",
   "id": "9cc8309c-989d-4d76-85d9-8076a2474538",
   "metadata": {},
   "source": [
    "# For문(반복문)"
   ]
  },
  {
   "cell_type": "code",
   "execution_count": 54,
   "id": "4a6bd96a-500f-4274-a130-fd21854368d6",
   "metadata": {},
   "outputs": [
    {
     "name": "stdout",
     "output_type": "stream",
     "text": [
      "1\n",
      "2\n",
      "3\n",
      "4\n",
      "5\n"
     ]
    }
   ],
   "source": [
    "for i in range(1, 6):\n",
    "    print(i)"
   ]
  },
  {
   "cell_type": "code",
   "execution_count": 55,
   "id": "300bf181-49d2-49d6-a748-4a088fad8a50",
   "metadata": {},
   "outputs": [
    {
     "name": "stdout",
     "output_type": "stream",
     "text": [
      "1\n",
      "2\n",
      "3\n",
      "4\n",
      "5\n"
     ]
    }
   ],
   "source": [
    "for i in [1,2,3,4,5]:\n",
    "    print(i)"
   ]
  },
  {
   "cell_type": "code",
   "execution_count": 56,
   "id": "dda14c39-ac82-4bdb-b748-dc5148438cbc",
   "metadata": {},
   "outputs": [
    {
     "data": {
      "text/plain": [
       "[1, 3, 5, 7, 9]"
      ]
     },
     "execution_count": 56,
     "metadata": {},
     "output_type": "execute_result"
    }
   ],
   "source": [
    "list(range(1, 10, 2))"
   ]
  },
  {
   "cell_type": "code",
   "execution_count": 58,
   "id": "8d5f55d1-8bea-472e-ae6e-9adf83e56591",
   "metadata": {},
   "outputs": [
    {
     "data": {
      "text/plain": [
       "[0, 1, 2, 3, 4, 5, 6, 7, 8, 9]"
      ]
     },
     "execution_count": 58,
     "metadata": {},
     "output_type": "execute_result"
    }
   ],
   "source": [
    "list(range(10))"
   ]
  },
  {
   "cell_type": "markdown",
   "id": "971fff50-111c-4ad0-880e-af47669288bb",
   "metadata": {},
   "source": [
    "1 ~ 100까지 홀수의 합, 짝수의 합"
   ]
  },
  {
   "cell_type": "code",
   "execution_count": 62,
   "id": "f8db2215-ab93-40a2-9c8e-059718269e94",
   "metadata": {},
   "outputs": [
    {
     "name": "stdout",
     "output_type": "stream",
     "text": [
      "55\n"
     ]
    }
   ],
   "source": [
    "sum = 0\n",
    "for i in range(1, 11):\n",
    "    sum += i\n",
    "print(sum)"
   ]
  },
  {
   "cell_type": "code",
   "execution_count": 71,
   "id": "59bca719-33ff-4e07-8f96-b9e2ede29769",
   "metadata": {},
   "outputs": [
    {
     "name": "stdout",
     "output_type": "stream",
     "text": [
      "홀수의 합:2500 짝수의 합:2550\n"
     ]
    }
   ],
   "source": [
    "odd = 0  #홀수\n",
    "even = 0 #짝수\n",
    "for n in range(1, 101):\n",
    "    if n%2 == 0:\n",
    "        even += n\n",
    "    else:\n",
    "        odd += n\n",
    "\n",
    "print(f'홀수의 합:{odd} 짝수의 합:{even}')"
   ]
  },
  {
   "cell_type": "code",
   "execution_count": 72,
   "id": "fdbdc12b-853d-4583-b4a2-cf6f305f62ea",
   "metadata": {},
   "outputs": [
    {
     "data": {
      "text/plain": [
       "range(10, 100, 10)"
      ]
     },
     "execution_count": 72,
     "metadata": {},
     "output_type": "execute_result"
    }
   ],
   "source": [
    "score = range(10, 100, 10)\n",
    "score"
   ]
  },
  {
   "cell_type": "code",
   "execution_count": 73,
   "id": "250f3729-d5e5-4686-83ed-68051022b10e",
   "metadata": {},
   "outputs": [
    {
     "data": {
      "text/plain": [
       "[10, 20, 30, 40, 50, 60, 70, 80, 90]"
      ]
     },
     "execution_count": 73,
     "metadata": {},
     "output_type": "execute_result"
    }
   ],
   "source": [
    "list(score)"
   ]
  },
  {
   "cell_type": "raw",
   "id": "15bd7bc3-eccd-44c3-ab36-7d0b8d7587fb",
   "metadata": {},
   "source": [
    "60보다 크거나 같으면 합격 아니면 불합격\n",
    "전체 합격자가 몇명이고 합격률이 몇 %인지 구하시오"
   ]
  },
  {
   "cell_type": "code",
   "execution_count": 107,
   "id": "0a2dcf37-024b-4998-933f-0464934ed0fe",
   "metadata": {},
   "outputs": [
    {
     "name": "stdout",
     "output_type": "stream",
     "text": [
      "총 합격자 수는 4 입니다\n",
      "합격률은  44.44 %입니다.\n"
     ]
    }
   ],
   "source": [
    "## 예제\n",
    "cnt = 0\n",
    "\n",
    "for s in score:\n",
    "    if s >= 60:\n",
    "        # 합격\n",
    "        cnt += 1\n",
    "    else:\n",
    "        pass\n",
    "        #불합격    \n",
    "\n",
    "print('총 합격자 수는', cnt, '입니다')\n",
    "rate = cnt/len(score) * 100\n",
    "print('합격률은 ', round(rate,2), '%입니다.')"
   ]
  },
  {
   "cell_type": "code",
   "execution_count": 111,
   "id": "6f0b0308-b49f-4cc1-925c-252440bb33bd",
   "metadata": {},
   "outputs": [
    {
     "name": "stdout",
     "output_type": "stream",
     "text": [
      "합격률은 44.44%입니다.\n"
     ]
    }
   ],
   "source": [
    "sc=0 #합격자\n",
    "\n",
    "for i in range(10, 100, 10):\n",
    "    if i>=60:\n",
    "        sc += 1\n",
    "        \n",
    "\n",
    "sc_percent = round((sc/len(score) * 100), 2)\n",
    "print(f'합격률은 {sc_percent}%입니다.')"
   ]
  },
  {
   "cell_type": "code",
   "execution_count": null,
   "id": "17d56202-560a-4d10-af36-8c98d47424ed",
   "metadata": {},
   "outputs": [],
   "source": []
  }
 ],
 "metadata": {
  "kernelspec": {
   "display_name": "Python 3 (ipykernel)",
   "language": "python",
   "name": "python3"
  },
  "language_info": {
   "codemirror_mode": {
    "name": "ipython",
    "version": 3
   },
   "file_extension": ".py",
   "mimetype": "text/x-python",
   "name": "python",
   "nbconvert_exporter": "python",
   "pygments_lexer": "ipython3",
   "version": "3.12.7"
  }
 },
 "nbformat": 4,
 "nbformat_minor": 5
}
