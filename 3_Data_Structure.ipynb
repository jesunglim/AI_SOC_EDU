{
 "cells": [
  {
   "cell_type": "markdown",
   "id": "f88b11c2-3db0-4e64-9151-02c8fbd95d92",
   "metadata": {},
   "source": [
    "# 3. 자료구조"
   ]
  },
  {
   "cell_type": "markdown",
   "id": "05fb53c0-591f-4950-bd80-099b2b4d811d",
   "metadata": {},
   "source": [
    "- 리스트(list)\n",
    "- 튜플(tuple)\n",
    "- 딕셔너리(dictionary)\n",
    "- 집합(set)"
   ]
  },
  {
   "cell_type": "markdown",
   "id": "72471c57-b501-4b3f-b1f9-cbd9900bb432",
   "metadata": {},
   "source": [
    "# 리스트"
   ]
  },
  {
   "cell_type": "code",
   "execution_count": 1,
   "id": "034bdab8-9257-4554-aa7c-501eede3bdd5",
   "metadata": {},
   "outputs": [],
   "source": [
    "list1 = list()"
   ]
  },
  {
   "cell_type": "code",
   "execution_count": 2,
   "id": "9be39194-3867-4fa0-83a4-52bd7a4c5173",
   "metadata": {},
   "outputs": [
    {
     "name": "stdout",
     "output_type": "stream",
     "text": [
      "[]\n"
     ]
    }
   ],
   "source": [
    "print(list1)"
   ]
  },
  {
   "cell_type": "code",
   "execution_count": 3,
   "id": "7e43b5f6-f78a-4e68-8252-1744e6834438",
   "metadata": {},
   "outputs": [
    {
     "data": {
      "text/plain": [
       "list"
      ]
     },
     "execution_count": 3,
     "metadata": {},
     "output_type": "execute_result"
    }
   ],
   "source": [
    "type(list1)"
   ]
  },
  {
   "cell_type": "code",
   "execution_count": 4,
   "id": "56fdb28b-1c55-41ce-a8e3-adfc5ec4376e",
   "metadata": {},
   "outputs": [
    {
     "name": "stdout",
     "output_type": "stream",
     "text": [
      "[]\n"
     ]
    }
   ],
   "source": [
    "list2 = []\n",
    "print(list2)"
   ]
  },
  {
   "cell_type": "code",
   "execution_count": 5,
   "id": "68353e6e-cda4-4df5-89a7-6c1301a3fb71",
   "metadata": {},
   "outputs": [
    {
     "data": {
      "text/plain": [
       "list"
      ]
     },
     "execution_count": 5,
     "metadata": {},
     "output_type": "execute_result"
    }
   ],
   "source": [
    "type(list2)"
   ]
  },
  {
   "cell_type": "code",
   "execution_count": 6,
   "id": "9af87bc3-a796-4e96-a28b-05eb9d4d257b",
   "metadata": {},
   "outputs": [
    {
     "data": {
      "text/plain": [
       "[1, 2, 3, 4]"
      ]
     },
     "execution_count": 6,
     "metadata": {},
     "output_type": "execute_result"
    }
   ],
   "source": [
    "list_num = [1,2,3,4]\n",
    "list_num"
   ]
  },
  {
   "cell_type": "code",
   "execution_count": 7,
   "id": "7076f516-4a6f-4c3f-8223-263277a6b63a",
   "metadata": {},
   "outputs": [
    {
     "data": {
      "text/plain": [
       "['kim', 'lee', 'choi', 'park']"
      ]
     },
     "execution_count": 7,
     "metadata": {},
     "output_type": "execute_result"
    }
   ],
   "source": [
    "list_str = ['kim', 'lee', 'choi', 'park']\n",
    "list_str"
   ]
  },
  {
   "cell_type": "code",
   "execution_count": 8,
   "id": "ba781a4a-2251-4473-aedc-48567a62f3fe",
   "metadata": {},
   "outputs": [
    {
     "data": {
      "text/plain": [
       "[True, False, True, False]"
      ]
     },
     "execution_count": 8,
     "metadata": {},
     "output_type": "execute_result"
    }
   ],
   "source": [
    "list_bool = [True, False, True, False]\n",
    "list_bool"
   ]
  },
  {
   "cell_type": "code",
   "execution_count": 9,
   "id": "e435c674-f695-4a75-a8a1-1118fa34b1c9",
   "metadata": {},
   "outputs": [
    {
     "data": {
      "text/plain": [
       "['kim', 29, True]"
      ]
     },
     "execution_count": 9,
     "metadata": {},
     "output_type": "execute_result"
    }
   ],
   "source": [
    "list_mix = ['kim', 29, True]\n",
    "list_mix"
   ]
  },
  {
   "cell_type": "code",
   "execution_count": 10,
   "id": "4c404527-e7b2-4221-933c-cee9712282dd",
   "metadata": {},
   "outputs": [
    {
     "name": "stdout",
     "output_type": "stream",
     "text": [
      "<class 'str'>\n",
      "<class 'bool'>\n"
     ]
    }
   ],
   "source": [
    "print(type(list_mix[0]))\n",
    "print(type(list_mix[2]))"
   ]
  },
  {
   "cell_type": "code",
   "execution_count": 11,
   "id": "021af6ce-65a8-4651-b6c1-679e19466b30",
   "metadata": {},
   "outputs": [
    {
     "data": {
      "text/plain": [
       "[[1, 2, 3, 4], ['kim', 'lee', 'choi', 'park'], [True, False, True, False]]"
      ]
     },
     "execution_count": 11,
     "metadata": {},
     "output_type": "execute_result"
    }
   ],
   "source": [
    "list_list = [list_num, list_str, list_bool]\n",
    "list_list"
   ]
  },
  {
   "cell_type": "markdown",
   "id": "ca3a3502-d178-4667-a068-c8728457a3be",
   "metadata": {},
   "source": [
    "# 리스트 인덱싱"
   ]
  },
  {
   "cell_type": "code",
   "execution_count": 12,
   "id": "63bf41b0-5d5d-41c3-a1bd-931dc827d193",
   "metadata": {},
   "outputs": [],
   "source": [
    "list1 = [1,2,3,4]"
   ]
  },
  {
   "cell_type": "code",
   "execution_count": 13,
   "id": "7cf667f8-134a-4181-a04e-d488f997bcb1",
   "metadata": {},
   "outputs": [
    {
     "data": {
      "text/plain": [
       "3"
      ]
     },
     "execution_count": 13,
     "metadata": {},
     "output_type": "execute_result"
    }
   ],
   "source": [
    "list1[2]"
   ]
  },
  {
   "cell_type": "code",
   "execution_count": 14,
   "id": "595a90dd-d691-4081-bf0b-ba21d049024d",
   "metadata": {},
   "outputs": [
    {
     "data": {
      "text/plain": [
       "4"
      ]
     },
     "execution_count": 14,
     "metadata": {},
     "output_type": "execute_result"
    }
   ],
   "source": [
    "list1[-1]"
   ]
  },
  {
   "cell_type": "code",
   "execution_count": 15,
   "id": "34d7c9ab-b620-40f4-9900-3c16702e008e",
   "metadata": {},
   "outputs": [
    {
     "data": {
      "text/plain": [
       "[2, 3]"
      ]
     },
     "execution_count": 15,
     "metadata": {},
     "output_type": "execute_result"
    }
   ],
   "source": [
    "list1[1:-1]"
   ]
  },
  {
   "cell_type": "markdown",
   "id": "6aa2b584-8c05-4e62-a082-3b04b2b4167e",
   "metadata": {},
   "source": [
    "# 리스트 더하기 ('+')"
   ]
  },
  {
   "cell_type": "code",
   "execution_count": 16,
   "id": "c07ec062-8003-4a16-a2fe-e104fa106b7d",
   "metadata": {},
   "outputs": [],
   "source": [
    "list1 = [1,2,3]\n",
    "list2= [4,5,6, 7]"
   ]
  },
  {
   "cell_type": "code",
   "execution_count": 17,
   "id": "581bda75-a963-46c4-9651-ac6b82840339",
   "metadata": {},
   "outputs": [
    {
     "data": {
      "text/plain": [
       "[1, 2, 3, 4, 5, 6, 7]"
      ]
     },
     "execution_count": 17,
     "metadata": {},
     "output_type": "execute_result"
    }
   ],
   "source": [
    "list1 + list2"
   ]
  },
  {
   "cell_type": "markdown",
   "id": "e957e8f4-44bf-4703-a44b-fe6a1275dc78",
   "metadata": {},
   "source": [
    "### 리스트 곱하기 ('*')"
   ]
  },
  {
   "cell_type": "code",
   "execution_count": 18,
   "id": "a0206cff-ee57-448d-b71a-3189ade31658",
   "metadata": {},
   "outputs": [
    {
     "data": {
      "text/plain": [
       "[1, 2, 3, 1, 2, 3, 1, 2, 3]"
      ]
     },
     "execution_count": 18,
     "metadata": {},
     "output_type": "execute_result"
    }
   ],
   "source": [
    "list1 * 3"
   ]
  },
  {
   "cell_type": "code",
   "execution_count": 19,
   "id": "c438eba4-0cb6-45ac-b8a9-a33f5cf6d7b8",
   "metadata": {},
   "outputs": [
    {
     "data": {
      "text/plain": [
       "6"
      ]
     },
     "execution_count": 19,
     "metadata": {},
     "output_type": "execute_result"
    }
   ],
   "source": [
    "list1[1] * 3"
   ]
  },
  {
   "cell_type": "markdown",
   "id": "b86b05d6-712a-441a-90b5-0de50764be4f",
   "metadata": {},
   "source": [
    "# 리스트 값 수정하기"
   ]
  },
  {
   "cell_type": "code",
   "execution_count": 20,
   "id": "b3ed2280-4ccd-4ba9-abfa-3b6576aa9520",
   "metadata": {},
   "outputs": [],
   "source": [
    "s = \"Hello World!\""
   ]
  },
  {
   "cell_type": "code",
   "execution_count": 21,
   "id": "79b98b43-bf5b-4e2f-a1de-62955db7340a",
   "metadata": {},
   "outputs": [
    {
     "ename": "TypeError",
     "evalue": "'str' object does not support item assignment",
     "output_type": "error",
     "traceback": [
      "\u001b[1;31m---------------------------------------------------------------------------\u001b[0m",
      "\u001b[1;31mTypeError\u001b[0m                                 Traceback (most recent call last)",
      "Cell \u001b[1;32mIn[21], line 1\u001b[0m\n\u001b[1;32m----> 1\u001b[0m s[\u001b[38;5;241m6\u001b[39m] \u001b[38;5;241m=\u001b[39m \u001b[38;5;124m'\u001b[39m\u001b[38;5;124mw\u001b[39m\u001b[38;5;124m'\u001b[39m\n",
      "\u001b[1;31mTypeError\u001b[0m: 'str' object does not support item assignment"
     ]
    }
   ],
   "source": [
    "s[6] = 'w'"
   ]
  },
  {
   "cell_type": "code",
   "execution_count": 23,
   "id": "8f56df0a-4788-4556-b7e4-ac341bf05098",
   "metadata": {},
   "outputs": [],
   "source": [
    "list1 = [1,2,3]"
   ]
  },
  {
   "cell_type": "code",
   "execution_count": 24,
   "id": "2a36bbcf-176b-41b8-b5f6-b71951139b92",
   "metadata": {},
   "outputs": [],
   "source": [
    "list1[1] = 4"
   ]
  },
  {
   "cell_type": "code",
   "execution_count": 25,
   "id": "d4b94174-d402-4413-9064-2c131b27d405",
   "metadata": {},
   "outputs": [
    {
     "data": {
      "text/plain": [
       "[1, 4, 3]"
      ]
     },
     "execution_count": 25,
     "metadata": {},
     "output_type": "execute_result"
    }
   ],
   "source": [
    "list1"
   ]
  },
  {
   "cell_type": "code",
   "execution_count": 26,
   "id": "8972b823-67f9-4d6d-837e-41422718ed68",
   "metadata": {},
   "outputs": [],
   "source": [
    "list1 = [1,2,3,4,5,6]"
   ]
  },
  {
   "cell_type": "code",
   "execution_count": 27,
   "id": "5673d0e8-abdd-47c6-a5cf-671d7e493964",
   "metadata": {},
   "outputs": [
    {
     "data": {
      "text/plain": [
       "[1, 2, 3, ['a', 'b', 'c'], 5, 6]"
      ]
     },
     "execution_count": 27,
     "metadata": {},
     "output_type": "execute_result"
    }
   ],
   "source": [
    "list1[3] = ['a','b','c']\n",
    "list1"
   ]
  },
  {
   "cell_type": "code",
   "execution_count": 28,
   "id": "f7a53ccc-0612-4ebb-a6e4-724f112762e6",
   "metadata": {},
   "outputs": [
    {
     "data": {
      "text/plain": [
       "[4]"
      ]
     },
     "execution_count": 28,
     "metadata": {},
     "output_type": "execute_result"
    }
   ],
   "source": [
    "list1 = [1,2,3,4,5,6]\n",
    "list1[3:4]"
   ]
  },
  {
   "cell_type": "code",
   "execution_count": 29,
   "id": "b16cef5d-53cc-400f-a92a-cc29aad74acb",
   "metadata": {},
   "outputs": [
    {
     "data": {
      "text/plain": [
       "[1, 2, 3, 'A', 'B', 'C', 5, 6]"
      ]
     },
     "execution_count": 29,
     "metadata": {},
     "output_type": "execute_result"
    }
   ],
   "source": [
    "list1[3:4] = ['A', 'B', 'C']\n",
    "list1"
   ]
  },
  {
   "cell_type": "markdown",
   "id": "23293799-405f-4913-9202-ba09cd994580",
   "metadata": {},
   "source": [
    "# 리스트 요소 삭제하기"
   ]
  },
  {
   "cell_type": "code",
   "execution_count": 30,
   "id": "69891d29-953d-4423-bff1-221622ab6a78",
   "metadata": {},
   "outputs": [],
   "source": [
    "list1 = [1,2,3,4]"
   ]
  },
  {
   "cell_type": "code",
   "execution_count": 31,
   "id": "24e8eab7-192b-4db4-bf9f-0f62a412678f",
   "metadata": {},
   "outputs": [],
   "source": [
    "del list1[1]"
   ]
  },
  {
   "cell_type": "code",
   "execution_count": 32,
   "id": "e34a99df-e4fb-4313-832d-d5034320dd84",
   "metadata": {},
   "outputs": [
    {
     "data": {
      "text/plain": [
       "[1, 3, 4]"
      ]
     },
     "execution_count": 32,
     "metadata": {},
     "output_type": "execute_result"
    }
   ],
   "source": [
    "list1"
   ]
  },
  {
   "cell_type": "markdown",
   "id": "61a3ea2f-85d2-4b0f-9aa1-3072af550d98",
   "metadata": {},
   "source": [
    "# 리스트 값 추가하기"
   ]
  },
  {
   "cell_type": "code",
   "execution_count": 33,
   "id": "4cf59a02-0ee8-4c9b-bd11-ce63c87243d6",
   "metadata": {},
   "outputs": [],
   "source": [
    "list1 = [1,2,3,4]"
   ]
  },
  {
   "cell_type": "code",
   "execution_count": 34,
   "id": "34fe47cc-a0b0-4d6e-a783-c890d84d7517",
   "metadata": {},
   "outputs": [
    {
     "data": {
      "text/plain": [
       "[1, 2, 3, 4]"
      ]
     },
     "execution_count": 34,
     "metadata": {},
     "output_type": "execute_result"
    }
   ],
   "source": [
    "list1"
   ]
  },
  {
   "cell_type": "code",
   "execution_count": 35,
   "id": "df3b6b3d-d2bb-44d8-8f23-58149c727c50",
   "metadata": {},
   "outputs": [],
   "source": [
    "list1.append(5)"
   ]
  },
  {
   "cell_type": "code",
   "execution_count": 36,
   "id": "6b9a8308-ddb0-4efd-9bc4-1fae28792e9f",
   "metadata": {},
   "outputs": [
    {
     "data": {
      "text/plain": [
       "[1, 2, 3, 4, 5]"
      ]
     },
     "execution_count": 36,
     "metadata": {},
     "output_type": "execute_result"
    }
   ],
   "source": [
    "list1"
   ]
  },
  {
   "cell_type": "markdown",
   "id": "cf721751-a555-41f4-b89e-9965956c915e",
   "metadata": {},
   "source": [
    "## 리스트 값 삽입하기"
   ]
  },
  {
   "cell_type": "code",
   "execution_count": 37,
   "id": "735f27da-309c-44ce-bb21-e7731697bcec",
   "metadata": {},
   "outputs": [
    {
     "data": {
      "text/plain": [
       "[1, 2, 'A', 3, 4, 5]"
      ]
     },
     "execution_count": 37,
     "metadata": {},
     "output_type": "execute_result"
    }
   ],
   "source": [
    "list1.insert(2, 'A')\n",
    "list1"
   ]
  },
  {
   "cell_type": "markdown",
   "id": "d50e3e24-91bd-429c-805d-9325e80a8325",
   "metadata": {},
   "source": [
    "## 리스트 값 삭제하기"
   ]
  },
  {
   "cell_type": "markdown",
   "id": "6c3b243e-7bb4-4f76-b1ea-a57ad5208865",
   "metadata": {},
   "source": [
    "- del과 달리 배열 위치를 정해주지 않아도 찾아서 삭제해줌\n",
    "- 없을때 remove()를 사용하면 에러가 남"
   ]
  },
  {
   "cell_type": "code",
   "execution_count": 38,
   "id": "b296a6cb-e273-4f5d-a8db-626ee8c583aa",
   "metadata": {},
   "outputs": [
    {
     "data": {
      "text/plain": [
       "[1, 2, 'A', 3, 4, 5]"
      ]
     },
     "execution_count": 38,
     "metadata": {},
     "output_type": "execute_result"
    }
   ],
   "source": [
    "list1"
   ]
  },
  {
   "cell_type": "code",
   "execution_count": 39,
   "id": "d2ed65a8-2e86-45eb-a01c-81f247c9018b",
   "metadata": {},
   "outputs": [],
   "source": [
    "list1.remove('A')"
   ]
  },
  {
   "cell_type": "code",
   "execution_count": 40,
   "id": "4ecba8ef-f717-4f28-ae95-ee1550503623",
   "metadata": {},
   "outputs": [
    {
     "data": {
      "text/plain": [
       "[1, 2, 3, 4, 5]"
      ]
     },
     "execution_count": 40,
     "metadata": {},
     "output_type": "execute_result"
    }
   ],
   "source": [
    "list1"
   ]
  },
  {
   "cell_type": "code",
   "execution_count": 41,
   "id": "7658c07e-9486-4a47-a485-9f7a87e8b094",
   "metadata": {},
   "outputs": [],
   "source": [
    "list1.insert(2, 'A')"
   ]
  },
  {
   "cell_type": "code",
   "execution_count": 42,
   "id": "f3d378f8-d54b-4bfc-a765-f645f32c8635",
   "metadata": {},
   "outputs": [],
   "source": [
    "list1.remove('A')"
   ]
  },
  {
   "cell_type": "code",
   "execution_count": 43,
   "id": "0ad0b073-d600-438b-a63a-a7bf489aa4e0",
   "metadata": {},
   "outputs": [
    {
     "data": {
      "text/plain": [
       "[1, 2, 3, 4, 5]"
      ]
     },
     "execution_count": 43,
     "metadata": {},
     "output_type": "execute_result"
    }
   ],
   "source": [
    "list1"
   ]
  },
  {
   "cell_type": "code",
   "execution_count": 44,
   "id": "6e1370c3-6539-444a-a9a8-02e8df838333",
   "metadata": {},
   "outputs": [
    {
     "ename": "ValueError",
     "evalue": "list.remove(x): x not in list",
     "output_type": "error",
     "traceback": [
      "\u001b[1;31m---------------------------------------------------------------------------\u001b[0m",
      "\u001b[1;31mValueError\u001b[0m                                Traceback (most recent call last)",
      "Cell \u001b[1;32mIn[44], line 1\u001b[0m\n\u001b[1;32m----> 1\u001b[0m list1\u001b[38;5;241m.\u001b[39mremove(\u001b[38;5;124m'\u001b[39m\u001b[38;5;124mA\u001b[39m\u001b[38;5;124m'\u001b[39m)\n\u001b[0;32m      2\u001b[0m list1\n",
      "\u001b[1;31mValueError\u001b[0m: list.remove(x): x not in list"
     ]
    }
   ],
   "source": [
    "list1.remove('A')\n",
    "list1"
   ]
  },
  {
   "cell_type": "markdown",
   "id": "07440395-6af3-4686-8035-e3eda5631d55",
   "metadata": {},
   "source": [
    "# 딕셔너리"
   ]
  },
  {
   "cell_type": "markdown",
   "id": "b8513e02-cfa1-4d76-838a-36a6edf8ed48",
   "metadata": {},
   "source": [
    "- key는 항상 개별로 존재해야 한다"
   ]
  },
  {
   "cell_type": "code",
   "execution_count": 58,
   "id": "339c546c-e4fa-4e49-b321-1b70a24f37f1",
   "metadata": {},
   "outputs": [
    {
     "data": {
      "text/plain": [
       "{}"
      ]
     },
     "execution_count": 58,
     "metadata": {},
     "output_type": "execute_result"
    }
   ],
   "source": [
    "dict1 = dict()\n",
    "dict1"
   ]
  },
  {
   "cell_type": "code",
   "execution_count": 59,
   "id": "a71d5ca4-c6a1-4c60-ac44-f946356a57f6",
   "metadata": {},
   "outputs": [
    {
     "data": {
      "text/plain": [
       "{}"
      ]
     },
     "execution_count": 59,
     "metadata": {},
     "output_type": "execute_result"
    }
   ],
   "source": [
    "dict2= {}\n",
    "dict2"
   ]
  },
  {
   "cell_type": "code",
   "execution_count": 60,
   "id": "07c95a8e-2344-4f70-8045-e45b1b70aa59",
   "metadata": {},
   "outputs": [],
   "source": [
    "dict1 = {'key1':'value1',' key2':'value2', 'key3':'value3'}"
   ]
  },
  {
   "cell_type": "code",
   "execution_count": 61,
   "id": "84dd2e4a-0c13-4558-afc5-fc6af430671b",
   "metadata": {},
   "outputs": [
    {
     "data": {
      "text/plain": [
       "'value1'"
      ]
     },
     "execution_count": 61,
     "metadata": {},
     "output_type": "execute_result"
    }
   ],
   "source": [
    "dict1['key1']"
   ]
  },
  {
   "cell_type": "code",
   "execution_count": 62,
   "id": "fb648868-462a-48d6-946d-3932339db52a",
   "metadata": {},
   "outputs": [
    {
     "data": {
      "text/plain": [
       "'value4'"
      ]
     },
     "execution_count": 62,
     "metadata": {},
     "output_type": "execute_result"
    }
   ],
   "source": [
    "dict1 = {'key1':'value1',' key2':'value2', 'key3':'value3', 'key1':'value4'}\n",
    "dict1['key1']"
   ]
  },
  {
   "cell_type": "code",
   "execution_count": 63,
   "id": "660e125c-74f5-4f1e-9f20-20ae40fc183a",
   "metadata": {},
   "outputs": [
    {
     "data": {
      "text/plain": [
       "{'key1': 'value4', ' key2': 'value2', 'key3': 'value3'}"
      ]
     },
     "execution_count": 63,
     "metadata": {},
     "output_type": "execute_result"
    }
   ],
   "source": [
    "dict1"
   ]
  },
  {
   "cell_type": "code",
   "execution_count": 64,
   "id": "e96fabde-da3d-420d-85fb-d6d356aba7c6",
   "metadata": {},
   "outputs": [],
   "source": [
    "dict1['key4'] = 'value4'"
   ]
  },
  {
   "cell_type": "code",
   "execution_count": 65,
   "id": "4f83c1ec-bc6a-45c2-b4cc-79cb433b534f",
   "metadata": {},
   "outputs": [
    {
     "data": {
      "text/plain": [
       "{'key1': 'value4', ' key2': 'value2', 'key3': 'value3', 'key4': 'value4'}"
      ]
     },
     "execution_count": 65,
     "metadata": {},
     "output_type": "execute_result"
    }
   ],
   "source": [
    "dict1"
   ]
  },
  {
   "cell_type": "code",
   "execution_count": null,
   "id": "5fafe884-6d3e-4aca-ba40-a8b4c6e66b27",
   "metadata": {},
   "outputs": [],
   "source": []
  }
 ],
 "metadata": {
  "kernelspec": {
   "display_name": "Python 3 (ipykernel)",
   "language": "python",
   "name": "python3"
  },
  "language_info": {
   "codemirror_mode": {
    "name": "ipython",
    "version": 3
   },
   "file_extension": ".py",
   "mimetype": "text/x-python",
   "name": "python",
   "nbconvert_exporter": "python",
   "pygments_lexer": "ipython3",
   "version": "3.12.7"
  }
 },
 "nbformat": 4,
 "nbformat_minor": 5
}
