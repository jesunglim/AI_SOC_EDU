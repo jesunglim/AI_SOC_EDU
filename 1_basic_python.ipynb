{
 "cells": [
  {
   "cell_type": "markdown",
   "id": "ee61bb1a-a2bb-47d4-8e79-642e159e5b79",
   "metadata": {},
   "source": [
    "# 1. 변수"
   ]
  },
  {
   "cell_type": "markdown",
   "id": "5aab1324-33e3-474c-a843-a1588af97b0e",
   "metadata": {},
   "source": [
    "- 변수 이름 한글 사용 가능(권장 X)\n",
    "- 변수 이름 대소문자를 구분\n",
    "- 첫번째 문자가 숫자로 시작 X\n",
    "- 변수 이름에 띄어쓰기 X"
   ]
  },
  {
   "cell_type": "code",
   "execution_count": 1,
   "id": "86094589-282d-4d67-98be-7ab38790cb02",
   "metadata": {},
   "outputs": [],
   "source": [
    "변수 = 1"
   ]
  },
  {
   "cell_type": "code",
   "execution_count": 2,
   "id": "c88b46e5-054e-46c9-9c0b-78b6498c3b6d",
   "metadata": {},
   "outputs": [
    {
     "ename": "SyntaxError",
     "evalue": "invalid decimal literal (1364191551.py, line 1)",
     "output_type": "error",
     "traceback": [
      "\u001b[1;36m  Cell \u001b[1;32mIn[2], line 1\u001b[1;36m\u001b[0m\n\u001b[1;33m    1a = 1\u001b[0m\n\u001b[1;37m    ^\u001b[0m\n\u001b[1;31mSyntaxError\u001b[0m\u001b[1;31m:\u001b[0m invalid decimal literal\n"
     ]
    }
   ],
   "source": [
    "1a = 1"
   ]
  },
  {
   "cell_type": "markdown",
   "id": "46e3bb9c-8771-4ad4-bfac-8955a80b2928",
   "metadata": {},
   "source": [
    "# 2. 자료형"
   ]
  },
  {
   "cell_type": "markdown",
   "id": "b0594740-dd92-4562-aa24-1db881d0c491",
   "metadata": {},
   "source": [
    "- 숫자(numeric)\n",
    "- 문자(string)\n",
    "- 불리언(bool)"
   ]
  },
  {
   "cell_type": "code",
   "execution_count": 3,
   "id": "4ef82723-dca9-446a-a9b0-aba0008b0e48",
   "metadata": {},
   "outputs": [],
   "source": [
    "a = 2"
   ]
  },
  {
   "cell_type": "code",
   "execution_count": 4,
   "id": "403ce78f-9661-422d-b82d-566236b8abbe",
   "metadata": {},
   "outputs": [
    {
     "data": {
      "text/plain": [
       "2"
      ]
     },
     "execution_count": 4,
     "metadata": {},
     "output_type": "execute_result"
    }
   ],
   "source": [
    "a"
   ]
  },
  {
   "cell_type": "code",
   "execution_count": 5,
   "id": "cd7e53f1-c57d-42a3-a522-ec18e44cc12a",
   "metadata": {},
   "outputs": [],
   "source": [
    "b = '2'"
   ]
  },
  {
   "cell_type": "code",
   "execution_count": 6,
   "id": "aef9e2d7-67fd-4290-98e8-21aceb431fe0",
   "metadata": {},
   "outputs": [
    {
     "data": {
      "text/plain": [
       "'2'"
      ]
     },
     "execution_count": 6,
     "metadata": {},
     "output_type": "execute_result"
    }
   ],
   "source": [
    "b"
   ]
  },
  {
   "cell_type": "code",
   "execution_count": 7,
   "id": "c5bee34f-6106-49b4-a474-98c8481de00d",
   "metadata": {},
   "outputs": [
    {
     "data": {
      "text/plain": [
       "False"
      ]
     },
     "execution_count": 7,
     "metadata": {},
     "output_type": "execute_result"
    }
   ],
   "source": [
    "a == b"
   ]
  },
  {
   "cell_type": "code",
   "execution_count": 8,
   "id": "d977878b-6f9e-40e7-88f3-98cc2f6b0b9f",
   "metadata": {},
   "outputs": [],
   "source": [
    "c = True"
   ]
  },
  {
   "cell_type": "code",
   "execution_count": 9,
   "id": "b0cf2c88-094e-461d-87ff-db36300a357d",
   "metadata": {},
   "outputs": [
    {
     "data": {
      "text/plain": [
       "bool"
      ]
     },
     "execution_count": 9,
     "metadata": {},
     "output_type": "execute_result"
    }
   ],
   "source": [
    "type(c)"
   ]
  },
  {
   "cell_type": "markdown",
   "id": "b695534a-9317-46ec-b55e-0a5e6f4690af",
   "metadata": {},
   "source": [
    "## 산술 연산자 ( +,-,*,/,%,//,**)"
   ]
  },
  {
   "cell_type": "code",
   "execution_count": 10,
   "id": "1745a4e7-ae8e-49ad-87ef-6a6874cb3229",
   "metadata": {},
   "outputs": [
    {
     "data": {
      "text/plain": [
       "1"
      ]
     },
     "execution_count": 10,
     "metadata": {},
     "output_type": "execute_result"
    }
   ],
   "source": [
    "10 % 3"
   ]
  },
  {
   "cell_type": "code",
   "execution_count": 11,
   "id": "d57fd9a7-38a9-44ab-b606-da4d73f72581",
   "metadata": {},
   "outputs": [
    {
     "data": {
      "text/plain": [
       "3"
      ]
     },
     "execution_count": 11,
     "metadata": {},
     "output_type": "execute_result"
    }
   ],
   "source": [
    "10 // 3"
   ]
  },
  {
   "cell_type": "code",
   "execution_count": 12,
   "id": "64cff904-a282-45af-98e8-23d29a949437",
   "metadata": {},
   "outputs": [
    {
     "data": {
      "text/plain": [
       "8"
      ]
     },
     "execution_count": 12,
     "metadata": {},
     "output_type": "execute_result"
    }
   ],
   "source": [
    "2 ** 3"
   ]
  },
  {
   "cell_type": "code",
   "execution_count": 13,
   "id": "893a9f49-a680-42ce-8cfd-d1b5a111c974",
   "metadata": {},
   "outputs": [],
   "source": [
    "a = 33\n",
    "b = 80\n",
    "c = 67"
   ]
  },
  {
   "cell_type": "code",
   "execution_count": 14,
   "id": "b029d057-3324-4163-922d-d540603fa4c1",
   "metadata": {},
   "outputs": [
    {
     "data": {
      "text/plain": [
       "60.0"
      ]
     },
     "execution_count": 14,
     "metadata": {},
     "output_type": "execute_result"
    }
   ],
   "source": [
    "(a + b + c) / 3"
   ]
  },
  {
   "cell_type": "code",
   "execution_count": 17,
   "id": "c6766006-0189-4241-b09b-9e93da8d7b7e",
   "metadata": {},
   "outputs": [
    {
     "name": "stdout",
     "output_type": "stream",
     "text": [
      "1\n",
      "0\n",
      "1\n"
     ]
    }
   ],
   "source": [
    "print(a % 2)\n",
    "print(b % 2)\n",
    "print(c % 2)"
   ]
  },
  {
   "cell_type": "code",
   "execution_count": null,
   "id": "57d87041-8dff-40a9-8f07-570ad1f9410e",
   "metadata": {},
   "outputs": [],
   "source": []
  },
  {
   "cell_type": "code",
   "execution_count": null,
   "id": "43935372-80ad-445d-ba20-a6239750f138",
   "metadata": {},
   "outputs": [],
   "source": []
  },
  {
   "cell_type": "code",
   "execution_count": null,
   "id": "4948f7f9-df4e-4ac2-956b-86e9e721a2d1",
   "metadata": {},
   "outputs": [],
   "source": []
  },
  {
   "cell_type": "code",
   "execution_count": null,
   "id": "89eb5332-f83e-4f91-ba13-57250092af77",
   "metadata": {},
   "outputs": [],
   "source": []
  },
  {
   "cell_type": "code",
   "execution_count": null,
   "id": "0631b681-9b40-4c98-aaa4-7e154006004b",
   "metadata": {},
   "outputs": [],
   "source": []
  },
  {
   "cell_type": "code",
   "execution_count": null,
   "id": "34019e81-6837-47b1-b056-2679ed459565",
   "metadata": {},
   "outputs": [],
   "source": []
  }
 ],
 "metadata": {
  "kernelspec": {
   "display_name": "Python 3 (ipykernel)",
   "language": "python",
   "name": "python3"
  },
  "language_info": {
   "codemirror_mode": {
    "name": "ipython",
    "version": 3
   },
   "file_extension": ".py",
   "mimetype": "text/x-python",
   "name": "python",
   "nbconvert_exporter": "python",
   "pygments_lexer": "ipython3",
   "version": "3.12.7"
  }
 },
 "nbformat": 4,
 "nbformat_minor": 5
}
